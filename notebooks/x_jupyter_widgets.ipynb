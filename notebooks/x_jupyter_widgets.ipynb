{
 "cells": [
  {
   "cell_type": "markdown",
   "metadata": {},
   "source": [
    "# Jupyter widgets"
   ]
  },
  {
   "cell_type": "code",
   "execution_count": 2,
   "metadata": {},
   "outputs": [],
   "source": [
    "import numpy as np\n",
    "import cv2\n",
    "import glob\n",
    "import matplotlib.pyplot as plt\n",
    "%matplotlib inline"
   ]
  },
  {
   "cell_type": "code",
   "execution_count": 3,
   "metadata": {},
   "outputs": [],
   "source": [
    "from ipywidgets import interact, interactive, fixed, interact_manual\n",
    "import ipywidgets as widgets"
   ]
  },
  {
   "cell_type": "code",
   "execution_count": 13,
   "metadata": {},
   "outputs": [],
   "source": [
    "def f(x=10):\n",
    "    return x"
   ]
  },
  {
   "cell_type": "code",
   "execution_count": 8,
   "metadata": {},
   "outputs": [
    {
     "data": {
      "text/plain": [
       "100"
      ]
     },
     "metadata": {},
     "output_type": "display_data"
    }
   ],
   "source": [
    "interact(f, x=widgets.IntSlider(value=10, min=0, max=100, step=1));"
   ]
  },
  {
   "cell_type": "code",
   "execution_count": 14,
   "metadata": {},
   "outputs": [
    {
     "data": {
      "text/plain": [
       "10"
      ]
     },
     "metadata": {},
     "output_type": "display_data"
    }
   ],
   "source": [
    "interact(f, x=(0, 100, 1));"
   ]
  },
  {
   "cell_type": "code",
   "execution_count": 19,
   "metadata": {},
   "outputs": [
    {
     "data": {
      "image/png": "[encoded data removed]",
      "text/plain": [
       "<matplotlib.figure.Figure at 0x7fed0f883978>"
      ]
     },
     "metadata": {},
     "output_type": "display_data"
    }
   ],
   "source": [
    "def f(m, b):\n",
    "    plt.figure(2)\n",
    "    x = np.linspace(-10, 10, num=1000)\n",
    "    plt.plot(x, m * x + b)\n",
    "    plt.ylim(-5, 5)\n",
    "    plt.show()\n",
    "\n",
    "interactive(f, m=(-2.0, 2.0), b=(-3, 3, 0.5))\n",
    "#output = interactive_plot.children[-1]\n",
    "#output.layout.height = '350px'\n",
    "#interactive_plot"
   ]
  }
 ],
 "metadata": {
  "kernelspec": {
   "display_name": "Python [conda env:carnd-term1]",
   "language": "python",
   "name": "conda-env-carnd-term1-py"
  },
  "language_info": {
   "codemirror_mode": {
    "name": "ipython",
    "version": 3
   },
   "file_extension": ".py",
   "mimetype": "text/x-python",
   "name": "python",
   "nbconvert_exporter": "python",
   "pygments_lexer": "ipython3",
   "version": "3.5.5"
  },
  "widgets": {
   "state": {
    "03ee581224be4cdd8dd37d3d9fe364e3": {
     "views": []
    },
    "05f2bd7874df4e60b12d23c4b9dee1af": {
     "views": []
    },
    "070295adeef6462fbf6eda35850cd3cc": {
     "views": []
    },
    "13ff9abb22d547aaba0e8c14fa333bc1": {
     "views": []
    },
    "1db4f0a9951344ef87852398c7350a8d": {
     "views": []
    },
    "1dc2373d750a481498c2f60bedfcc062": {
     "views": []
    },
    "1f10b0aa62024fe790963794d1a79eb1": {
     "views": []
    },
    "244f043225a54aae8759f4ad79078971": {
     "views": []
    },
    "2e4b12178cff408faeea21486a541a83": {
     "views": []
    },
    "2e6aa553fb72484299d1a22ac4d2116c": {
     "views": []
    },
    "35c53ef243224b26a5aa002af71dddac": {
     "views": []
    },
    "3b718d814ea64dbf8c9275d5f694b88f": {
     "views": []
    },
    "3bae26b01b3a4cde9643e9971ed3b43a": {
     "views": []
    },
    "3da60162f1974befa456ea376ca3c1cb": {
     "views": []
    },
    "3e74b390a4f44895ad25ad78e750a7dc": {
     "views": []
    },
    "475fdcd62dd040d585f16ed0ebfe1b9c": {
     "views": []
    },
    "496ef35b21e54b63b70e401dc6312e9c": {
     "views": []
    },
    "4e00a38a13fd495b8a824aec48403f97": {
     "views": []
    },
    "50232a70d1684d6ab3fabffed8c5ae69": {
     "views": []
    },
    "52150af40d1543b0b7f2e4e1c813f1a1": {
     "views": []
    },
    "57e7b21a3b464ac295fbf961646b50b4": {
     "views": [
      {
       "cell_index": 5
      }
     ]
    },
    "5930da4d15a8479b84fb258490158562": {
     "views": []
    },
    "5b52dc859c7f4f049017596d0f9e9631": {
     "views": []
    },
    "61a131a57ee2455f8774fefdab2969e4": {
     "views": []
    },
    "66cd88857538446596ea063bec62aaaa": {
     "views": []
    },
    "6866d83c3b6d4eb394bcb83bc7da532a": {
     "views": []
    },
    "6ba374c329174ce3a9fb182bdc6a162c": {
     "views": []
    },
    "6f9d39b6d12b46218829fa0118ff0745": {
     "views": []
    },
    "73cfb1a9f52a4268bdf99d4af76f51cd": {
     "views": []
    },
    "820690e489d34cf2b84956a333345b3f": {
     "views": []
    },
    "86616e3b78264e3d8f409838446b2c91": {
     "views": []
    },
    "881686f6d56c4e548efb69ad652eae58": {
     "views": []
    },
    "8c6812f1d9ed45aabc1176ea7ced1986": {
     "views": []
    },
    "8d195fb258054f309bc9bc169aeebf60": {
     "views": []
    },
    "8d24b0051e484dc9b31a86460563df57": {
     "views": []
    },
    "939f8f6d25d34c76aa2bb3857e2a8a25": {
     "views": []
    },
    "98fa5238186848c1bb1cde37916fe42d": {
     "views": [
      {
       "cell_index": 4
      }
     ]
    },
    "9c677cadca0c49bbb67cbd670809b1a2": {
     "views": []
    },
    "a49bb38cb9eb4e49a11ecdf6d2a8bcee": {
     "views": []
    },
    "ab36f53a035143669d96b5465fd91c72": {
     "views": []
    },
    "b729a4c165854dd1bcc640d033baf85c": {
     "views": [
      {
       "cell_index": 6
      }
     ]
    },
    "bae48cf23ba4468c9460d84b0bc8af76": {
     "views": []
    },
    "bb8b3ae459ab4b7a9c26ec2c84c3efb9": {
     "views": []
    },
    "bc0ddafa2f6244b2864028c98a095958": {
     "views": []
    },
    "bc185ef34d944f61be0de954ba749cbb": {
     "views": []
    },
    "bd911efbefeb46c1bb728e305d2d902c": {
     "views": []
    },
    "c69619e68773411c8d9c381643b00cd6": {
     "views": []
    },
    "c7c67141d5e9404fa36844796a9fca61": {
     "views": []
    },
    "c9e0fedfde1a4f3dbb1846ad50d95601": {
     "views": []
    },
    "cf43fd435f1444eea6f7b3dd0b80a84d": {
     "views": []
    },
    "d478e3235420411cbe62829c45ad7c86": {
     "views": []
    },
    "d6b9b97215f845198717b00c10744dc5": {
     "views": []
    },
    "dfc6d22c5aa041babd07a5dd0b6c78cc": {
     "views": []
    },
    "e55c547ed2914005b3b27cdf419ca278": {
     "views": []
    },
    "ed20fcd1c992413abd65ab644badab57": {
     "views": []
    },
    "eff6d73ac7ba4d1d9207f9a5eb52055b": {
     "views": []
    },
    "fc8ab84d2340447ca4dc3476e7f115a5": {
     "views": []
    },
    "fedcfbd2d37a42bea358025f8c0f0450": {
     "views": []
    }
   },
   "version": "1.1.2"
  }
 },
 "nbformat": 4,
 "nbformat_minor": 2
}
